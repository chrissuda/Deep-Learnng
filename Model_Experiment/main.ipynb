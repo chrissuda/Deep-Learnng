{
 "cells": [
  {
   "cell_type": "code",
   "execution_count": 1,
   "metadata": {},
   "outputs": [],
   "source": [
    "from func import getMeanStd\n",
    "from pickle import *\n",
    "import torch\n",
    "import torchvision\n",
    "import json\n",
    "from torchvision import transforms\n",
    "import sys\n",
    "sys.path.insert(0,\"/home/students/cnn/Deep-Learnng\")\n",
    "\n",
    "from Detection.Loader import*\n",
    "from Detection.CocoDataset import labelboxCoco\n",
    "from Detection.util_labelbox import *\n",
    "from Detection.util_detection import*\n",
    "from Detection.util_train import*\n",
    "from Detection.util_filter import*\n",
    "from Detection.util_geolocation import *\n",
    "import csv \n",
    "import shutil\n",
    "import os"
   ]
  },
  {
   "cell_type": "code",
   "execution_count": 18,
   "metadata": {},
   "outputs": [],
   "source": [
    "base_model_path=\"/home/students/cnn/Deep-Learnng/base_model.pt\"\n",
    "model_path=\"/home/students/cnn/Deep-Learnng/Model_Experiment/models/model.pt\"\n",
    "\n",
    "batch_size=6\n",
    "newSize=(1000,1000)\n",
    "epochs=5"
   ]
  },
  {
   "cell_type": "code",
   "execution_count": 35,
   "metadata": {},
   "outputs": [],
   "source": [
    "#Using GPU or CPU\n",
    "if torch.cuda.is_available():\n",
    "    device = torch.device('cuda')\n",
    "    torch.backends.cuda.cufft_plan_cache.clear()\n",
    "else:\n",
    "    device = torch.device('cpu')\n",
    "\n",
    "transform = transforms.Compose([\n",
    "                transforms.Resize(newSize),\n",
    "                transforms.ToTensor()])\n",
    "                #transforms.Normalize([0.3932, 0.3908, 0.3942],[0.2291, 0.2268, 0.2334])])"
   ]
  },
  {
   "cell_type": "code",
   "execution_count": 40,
   "metadata": {},
   "outputs": [
    {
     "ename": "TypeError",
     "evalue": "expected str, bytes or os.PathLike object, not list",
     "output_type": "error",
     "traceback": [
      "\u001b[0;31m---------------------------------------------------------------------------\u001b[0m",
      "\u001b[0;31mTypeError\u001b[0m                                 Traceback (most recent call last)",
      "\u001b[0;32m<ipython-input-40-0e7fe8aaccf7>\u001b[0m in \u001b[0;36m<module>\u001b[0;34m\u001b[0m\n\u001b[0;32m----> 1\u001b[0;31m \u001b[0mucf\u001b[0m\u001b[0;34m=\u001b[0m\u001b[0mlabelboxCoco\u001b[0m\u001b[0;34m(\u001b[0m\u001b[0;34m\"/home/students/cnn/all\"\u001b[0m\u001b[0;34m,\u001b[0m\u001b[0;34m[\u001b[0m\u001b[0;34m\"../Data/UCFcoco.json\"\u001b[0m\u001b[0;34m,\u001b[0m\u001b[0;34m\"../Data/CMPcoco.json\"\u001b[0m\u001b[0;34m,\u001b[0m\u001b[0;34m\"../Data/DOORKNOBcoco.json\"\u001b[0m\u001b[0;34m]\u001b[0m\u001b[0;34m,\u001b[0m\u001b[0mnewSize\u001b[0m\u001b[0;34m,\u001b[0m\u001b[0mtransform\u001b[0m\u001b[0;34m=\u001b[0m\u001b[0mtransform\u001b[0m\u001b[0;34m)\u001b[0m\u001b[0;34m\u001b[0m\u001b[0;34m\u001b[0m\u001b[0m\n\u001b[0m\u001b[1;32m      2\u001b[0m \u001b[0mloader_train\u001b[0m\u001b[0;34m=\u001b[0m\u001b[0mLoader\u001b[0m\u001b[0;34m(\u001b[0m\u001b[0mucf\u001b[0m\u001b[0;34m,\u001b[0m\u001b[0mstart\u001b[0m\u001b[0;34m=\u001b[0m\u001b[0;36m100\u001b[0m\u001b[0;34m,\u001b[0m\u001b[0mbatch_size\u001b[0m\u001b[0;34m=\u001b[0m\u001b[0mbatch_size\u001b[0m\u001b[0;34m,\u001b[0m\u001b[0mshuffle\u001b[0m\u001b[0;34m=\u001b[0m\u001b[0;32mTrue\u001b[0m\u001b[0;34m)\u001b[0m\u001b[0;34m\u001b[0m\u001b[0;34m\u001b[0m\u001b[0m\n\u001b[1;32m      3\u001b[0m \u001b[0mprint\u001b[0m\u001b[0;34m(\u001b[0m\u001b[0mlen\u001b[0m\u001b[0;34m(\u001b[0m\u001b[0mloader_train\u001b[0m\u001b[0;34m)\u001b[0m\u001b[0;34m)\u001b[0m\u001b[0;34m\u001b[0m\u001b[0;34m\u001b[0m\u001b[0m\n\u001b[1;32m      4\u001b[0m \u001b[0mloader_ucf\u001b[0m\u001b[0;34m=\u001b[0m\u001b[0mLoader\u001b[0m\u001b[0;34m(\u001b[0m\u001b[0mucf\u001b[0m\u001b[0;34m,\u001b[0m\u001b[0mend\u001b[0m\u001b[0;34m=\u001b[0m\u001b[0;36m100\u001b[0m\u001b[0;34m,\u001b[0m\u001b[0mbatch_size\u001b[0m\u001b[0;34m=\u001b[0m\u001b[0mbatch_size\u001b[0m\u001b[0;34m)\u001b[0m\u001b[0;34m\u001b[0m\u001b[0;34m\u001b[0m\u001b[0m\n\u001b[1;32m      5\u001b[0m \u001b[0mloader\u001b[0m\u001b[0;34m=\u001b[0m\u001b[0mLoader\u001b[0m\u001b[0;34m(\u001b[0m\u001b[0mucf\u001b[0m\u001b[0;34m,\u001b[0m\u001b[0mstart\u001b[0m\u001b[0;34m=\u001b[0m\u001b[0;36m200\u001b[0m\u001b[0;34m,\u001b[0m\u001b[0mend\u001b[0m\u001b[0;34m=\u001b[0m\u001b[0;36m300\u001b[0m\u001b[0;34m,\u001b[0m\u001b[0mbatch_size\u001b[0m\u001b[0;34m=\u001b[0m\u001b[0mbatch_size\u001b[0m\u001b[0;34m)\u001b[0m\u001b[0;34m\u001b[0m\u001b[0;34m\u001b[0m\u001b[0m\n",
      "\u001b[0;32m~/cnn/Deep-Learnng/Detection/CocoDataset.py\u001b[0m in \u001b[0;36m__init__\u001b[0;34m(self, img_root, annFile, newSize, transform, target_transform, transforms)\u001b[0m\n\u001b[1;32m     87\u001b[0m         \u001b[0mself\u001b[0m\u001b[0;34m.\u001b[0m\u001b[0moriginSize\u001b[0m\u001b[0;34m=\u001b[0m\u001b[0;34m(\u001b[0m\u001b[0;36m1\u001b[0m\u001b[0;34m,\u001b[0m\u001b[0;36m1\u001b[0m\u001b[0;34m)\u001b[0m\u001b[0;34m\u001b[0m\u001b[0;34m\u001b[0m\u001b[0m\n\u001b[1;32m     88\u001b[0m \u001b[0;34m\u001b[0m\u001b[0m\n\u001b[0;32m---> 89\u001b[0;31m         \u001b[0mdata\u001b[0m\u001b[0;34m=\u001b[0m\u001b[0;34m[\u001b[0m\u001b[0;34m]\u001b[0m\u001b[0;34m\u001b[0m\u001b[0;34m\u001b[0m\u001b[0m\n\u001b[0m\u001b[1;32m     90\u001b[0m         \u001b[0;31m# for file in annFile:\u001b[0m\u001b[0;34m\u001b[0m\u001b[0;34m\u001b[0m\u001b[0;34m\u001b[0m\u001b[0m\n\u001b[1;32m     91\u001b[0m         \u001b[0;31m#     data=json.load(open(file))\u001b[0m\u001b[0;34m\u001b[0m\u001b[0;34m\u001b[0m\u001b[0;34m\u001b[0m\u001b[0m\n",
      "\u001b[0;31mTypeError\u001b[0m: expected str, bytes or os.PathLike object, not list"
     ]
    }
   ],
   "source": [
    "ucf=labelboxCoco(\"/home/students/cnn/all\",[\"../Data/UCFcoco.json\",\"../Data/CMPcoco.json\",\"../Data/DOORKNOBcoco.json\"],newSize,transform=transform)\n",
    "loader_train=Loader(ucf,start=100,batch_size=batch_size,shuffle=True)\n",
    "print(len(loader_train))\n",
    "loader_ucf=Loader(ucf,end=100,batch_size=batch_size)\n",
    "loader=Loader(ucf,start=200,end=300,batch_size=batch_size)\n",
    "\n",
    "\n",
    "nyc=labelboxCoco(\"/home/students/cnn/NYC\",[\"../Data/NYCcoco.json\"],newSize,transform=transform)\n",
    "loader_nyc=Loader(nyc,end=100,batch_size=batch_size)\n",
    "# loader_val=Loader(labelbox,end=100,batch_size=batch_size)\n",
    "# print(len(loader_val))"
   ]
  },
  {
   "cell_type": "code",
   "execution_count": 27,
   "metadata": {},
   "outputs": [],
   "source": [
    "cmp=labelboxCoco(\"/home/students/cnn/CMP\",\"../Data/CMPcoco.json\",newSize,transform=transform)\n",
    "loader_cmp=Loader(cmp,batch_size=batch_size,shuffle=True)\n",
    "\n",
    "door=labelboxCoco(\"/home/students/cnn/DOORKNOB\",\"../Data/DOORKNOBcoco.json\",newSize,transform=transform)\n",
    "loader_door=Loader(door,batch_size=batch_size,shuffle=True)"
   ]
  },
  {
   "cell_type": "code",
   "execution_count": 21,
   "metadata": {},
   "outputs": [
    {
     "name": "stderr",
     "output_type": "stream",
     "text": [
      "\r",
      "  0%|          | 0/924 [00:00<?, ?it/s]"
     ]
    },
    {
     "name": "stdout",
     "output_type": "stream",
     "text": [
      "Device: cuda\n"
     ]
    },
    {
     "name": "stderr",
     "output_type": "stream",
     "text": [
      " 99%|█████████▉| 918/924 [02:03<00:00,  7.46it/s]\n"
     ]
    },
    {
     "name": "stdout",
     "output_type": "stream",
     "text": [
      "*************************Recall Precision **************************************\n",
      "Door -> TP: 98  Predict: 1347  Truth: 100  Precision:7.28%  Recall:98.00%\n",
      "Knob -> TP: 16  Predict: 488  Truth: 48  Precision:3.28%  Recall:33.33%\n",
      "Stairs -> TP: 7  Predict: 1114  Truth: 12  Precision:0.63%  Recall:58.33%\n",
      "Ramp -> TP: 0  Predict: 16  Truth: 0  Precision:0.00%  Recall:0.00%\n",
      "*******************************************************************************\n",
      "*************************Recall Precision **************************************\n",
      "Door -> TP: 98  Predict: 1169  Truth: 100  Precision:8.38%  Recall:98.00%\n",
      "Knob -> TP: 13  Predict: 505  Truth: 28  Precision:2.57%  Recall:46.43%\n",
      "Stairs -> TP: 33  Predict: 1183  Truth: 41  Precision:2.79%  Recall:80.49%\n",
      "Ramp -> TP: 2  Predict: 36  Truth: 18  Precision:5.56%  Recall:11.11%\n",
      "*******************************************************************************\n"
     ]
    },
    {
     "name": "stderr",
     "output_type": "stream",
     "text": [
      "\r",
      "  0%|          | 0/924 [00:00<?, ?it/s]"
     ]
    },
    {
     "name": "stdout",
     "output_type": "stream",
     "text": [
      "*************************Recall Precision **************************************\n",
      "Door -> TP: 129  Predict: 1135  Truth: 164  Precision:11.37%  Recall:78.66%\n",
      "Knob -> TP: 20  Predict: 474  Truth: 77  Precision:4.22%  Recall:25.97%\n",
      "Stairs -> TP: 80  Predict: 1347  Truth: 96  Precision:5.94%  Recall:83.33%\n",
      "Ramp -> TP: 0  Predict: 29  Truth: 10  Precision:0.00%  Recall:0.00%\n",
      "*******************************************************************************\n",
      "Epochs: 1  Time used: 123 s  loss_train: tensor(0.3574, device='cuda:0')  loss_val: tensor(0.3944, device='cuda:0') \n",
      "\n"
     ]
    },
    {
     "name": "stderr",
     "output_type": "stream",
     "text": [
      " 99%|█████████▉| 918/924 [02:03<00:00,  7.43it/s]\n"
     ]
    },
    {
     "name": "stdout",
     "output_type": "stream",
     "text": [
      "*************************Recall Precision **************************************\n",
      "Door -> TP: 94  Predict: 809  Truth: 100  Precision:11.62%  Recall:94.00%\n",
      "Knob -> TP: 20  Predict: 149  Truth: 48  Precision:13.42%  Recall:41.67%\n",
      "Stairs -> TP: 8  Predict: 193  Truth: 12  Precision:4.15%  Recall:66.67%\n",
      "Ramp -> TP: 0  Predict: 1  Truth: 0  Precision:0.00%  Recall:0.00%\n",
      "*******************************************************************************\n",
      "*************************Recall Precision **************************************\n",
      "Door -> TP: 94  Predict: 635  Truth: 100  Precision:14.80%  Recall:94.00%\n",
      "Knob -> TP: 13  Predict: 146  Truth: 28  Precision:8.90%  Recall:46.43%\n",
      "Stairs -> TP: 38  Predict: 223  Truth: 41  Precision:17.04%  Recall:92.68%\n",
      "Ramp -> TP: 0  Predict: 0  Truth: 18  Precision:0.00%  Recall:0.00%\n",
      "*******************************************************************************\n"
     ]
    },
    {
     "name": "stderr",
     "output_type": "stream",
     "text": [
      "\r",
      "  0%|          | 0/924 [00:00<?, ?it/s]"
     ]
    },
    {
     "name": "stdout",
     "output_type": "stream",
     "text": [
      "*************************Recall Precision **************************************\n",
      "Door -> TP: 143  Predict: 558  Truth: 164  Precision:25.63%  Recall:87.20%\n",
      "Knob -> TP: 15  Predict: 136  Truth: 77  Precision:11.03%  Recall:19.48%\n",
      "Stairs -> TP: 65  Predict: 277  Truth: 96  Precision:23.47%  Recall:67.71%\n",
      "Ramp -> TP: 0  Predict: 1  Truth: 10  Precision:0.00%  Recall:0.00%\n",
      "*******************************************************************************\n",
      "Epochs: 2  Time used: 123 s  loss_train: tensor(0.2711, device='cuda:0')  loss_val: tensor(0.3764, device='cuda:0') \n",
      "\n"
     ]
    },
    {
     "name": "stderr",
     "output_type": "stream",
     "text": [
      " 99%|█████████▉| 918/924 [02:03<00:00,  7.41it/s]\n"
     ]
    },
    {
     "name": "stdout",
     "output_type": "stream",
     "text": [
      "*************************Recall Precision **************************************\n",
      "Door -> TP: 94  Predict: 769  Truth: 100  Precision:12.22%  Recall:94.00%\n",
      "Knob -> TP: 25  Predict: 235  Truth: 48  Precision:10.64%  Recall:52.08%\n",
      "Stairs -> TP: 9  Predict: 339  Truth: 12  Precision:2.65%  Recall:75.00%\n",
      "Ramp -> TP: 0  Predict: 121  Truth: 0  Precision:0.00%  Recall:0.00%\n",
      "*******************************************************************************\n",
      "*************************Recall Precision **************************************\n",
      "Door -> TP: 97  Predict: 682  Truth: 100  Precision:14.22%  Recall:97.00%\n",
      "Knob -> TP: 20  Predict: 238  Truth: 28  Precision:8.40%  Recall:71.43%\n",
      "Stairs -> TP: 41  Predict: 330  Truth: 41  Precision:12.42%  Recall:100.00%\n",
      "Ramp -> TP: 5  Predict: 157  Truth: 18  Precision:3.18%  Recall:27.78%\n",
      "*******************************************************************************\n"
     ]
    },
    {
     "name": "stderr",
     "output_type": "stream",
     "text": [
      "\r",
      "  0%|          | 0/924 [00:00<?, ?it/s]"
     ]
    },
    {
     "name": "stdout",
     "output_type": "stream",
     "text": [
      "*************************Recall Precision **************************************\n",
      "Door -> TP: 134  Predict: 730  Truth: 164  Precision:18.36%  Recall:81.71%\n",
      "Knob -> TP: 29  Predict: 188  Truth: 77  Precision:15.43%  Recall:37.66%\n",
      "Stairs -> TP: 80  Predict: 395  Truth: 96  Precision:20.25%  Recall:83.33%\n",
      "Ramp -> TP: 0  Predict: 84  Truth: 10  Precision:0.00%  Recall:0.00%\n",
      "*******************************************************************************\n",
      "Epochs: 3  Time used: 123 s  loss_train: tensor(0.2348, device='cuda:0')  loss_val: tensor(0.3930, device='cuda:0') \n",
      "\n"
     ]
    },
    {
     "name": "stderr",
     "output_type": "stream",
     "text": [
      " 99%|█████████▉| 918/924 [02:03<00:00,  7.42it/s]\n"
     ]
    },
    {
     "name": "stdout",
     "output_type": "stream",
     "text": [
      "*************************Recall Precision **************************************\n",
      "Door -> TP: 89  Predict: 380  Truth: 100  Precision:23.42%  Recall:89.00%\n",
      "Knob -> TP: 27  Predict: 179  Truth: 48  Precision:15.08%  Recall:56.25%\n",
      "Stairs -> TP: 8  Predict: 61  Truth: 12  Precision:13.11%  Recall:66.67%\n",
      "Ramp -> TP: 0  Predict: 89  Truth: 0  Precision:0.00%  Recall:0.00%\n",
      "*******************************************************************************\n",
      "*************************Recall Precision **************************************\n",
      "Door -> TP: 98  Predict: 393  Truth: 100  Precision:24.94%  Recall:98.00%\n",
      "Knob -> TP: 23  Predict: 167  Truth: 28  Precision:13.77%  Recall:82.14%\n",
      "Stairs -> TP: 40  Predict: 107  Truth: 41  Precision:37.38%  Recall:97.56%\n",
      "Ramp -> TP: 11  Predict: 75  Truth: 18  Precision:14.67%  Recall:61.11%\n",
      "*******************************************************************************\n"
     ]
    },
    {
     "name": "stderr",
     "output_type": "stream",
     "text": [
      "\r",
      "  0%|          | 0/924 [00:00<?, ?it/s]"
     ]
    },
    {
     "name": "stdout",
     "output_type": "stream",
     "text": [
      "*************************Recall Precision **************************************\n",
      "Door -> TP: 126  Predict: 318  Truth: 164  Precision:39.62%  Recall:76.83%\n",
      "Knob -> TP: 33  Predict: 140  Truth: 77  Precision:23.57%  Recall:42.86%\n",
      "Stairs -> TP: 48  Predict: 115  Truth: 96  Precision:41.74%  Recall:50.00%\n",
      "Ramp -> TP: 2  Predict: 70  Truth: 10  Precision:2.86%  Recall:20.00%\n",
      "*******************************************************************************\n",
      "Epochs: 4  Time used: 123 s  loss_train: tensor(0.2044, device='cuda:0')  loss_val: tensor(0.4953, device='cuda:0') \n",
      "\n"
     ]
    },
    {
     "name": "stderr",
     "output_type": "stream",
     "text": [
      " 99%|█████████▉| 918/924 [02:03<00:00,  7.42it/s]\n"
     ]
    },
    {
     "name": "stdout",
     "output_type": "stream",
     "text": [
      "*************************Recall Precision **************************************\n",
      "Door -> TP: 89  Predict: 439  Truth: 100  Precision:20.27%  Recall:89.00%\n",
      "Knob -> TP: 31  Predict: 294  Truth: 48  Precision:10.54%  Recall:64.58%\n",
      "Stairs -> TP: 8  Predict: 120  Truth: 12  Precision:6.67%  Recall:66.67%\n",
      "Ramp -> TP: 0  Predict: 58  Truth: 0  Precision:0.00%  Recall:0.00%\n",
      "*******************************************************************************\n",
      "*************************Recall Precision **************************************\n",
      "Door -> TP: 100  Predict: 437  Truth: 100  Precision:22.88%  Recall:100.00%\n",
      "Knob -> TP: 23  Predict: 284  Truth: 28  Precision:8.10%  Recall:82.14%\n",
      "Stairs -> TP: 41  Predict: 144  Truth: 41  Precision:28.47%  Recall:100.00%\n",
      "Ramp -> TP: 8  Predict: 65  Truth: 18  Precision:12.31%  Recall:44.44%\n",
      "*******************************************************************************\n",
      "*************************Recall Precision **************************************\n",
      "Door -> TP: 113  Predict: 348  Truth: 164  Precision:32.47%  Recall:68.90%\n",
      "Knob -> TP: 30  Predict: 226  Truth: 77  Precision:13.27%  Recall:38.96%\n",
      "Stairs -> TP: 57  Predict: 184  Truth: 96  Precision:30.98%  Recall:59.38%\n",
      "Ramp -> TP: 1  Predict: 50  Truth: 10  Precision:2.00%  Recall:10.00%\n",
      "*******************************************************************************\n",
      "Epochs: 5  Time used: 123 s  loss_train: tensor(0.1832, device='cuda:0')  loss_val: tensor(0.5613, device='cuda:0') \n",
      "\n"
     ]
    }
   ],
   "source": [
    "#Set up the model\n",
    "model=torchvision.models.detection.fasterrcnn_resnet50_fpn(pretrained=True)\n",
    "\n",
    "#4 categories + 1 background\n",
    "model=transfer(model,5)\n",
    "#model=torch.load(base_model_path,map_location=device)\n",
    "# print(model)\n",
    "for param in model.parameters():\n",
    "    param.requires_grad = True\n",
    "# for param in model.rpn.parameters():\n",
    "#     param.requires_grad = True\n",
    "# for param in model.roi_heads.parameters():\n",
    "#     param.requires_grad = True\n",
    "\n",
    "\n",
    "# for name, param in model.named_parameters():\n",
    "#     print(name, param.requires_grad)\n",
    "optimizer=torch.optim.Adam(model.parameters(),lr=1e-4,betas=(0.9, 0.95))\n",
    "model=train(model,optimizer,epochs,\n",
    "              loader_train=loader_train,loader_val=[loader_ucf,loader,loader_nyc],device=device,wb=False)\n",
    "\n"
   ]
  },
  {
   "cell_type": "code",
   "execution_count": 22,
   "metadata": {},
   "outputs": [],
   "source": [
    "torch.save(model,\"/home/students/cnn/Deep-Learnng/Model_Experiment/models/base_model_mean.pt\")"
   ]
  },
  {
   "cell_type": "code",
   "execution_count": 17,
   "metadata": {},
   "outputs": [],
   "source": []
  },
  {
   "cell_type": "code",
   "execution_count": 28,
   "metadata": {},
   "outputs": [
    {
     "name": "stdout",
     "output_type": "stream",
     "text": [
      "cmp: (tensor([0.4785, 0.4532, 0.4160]), tensor([0.2385, 0.2301, 0.2298]))\n"
     ]
    }
   ],
   "source": [
    "cmp_mean=getMeanStd(loader_cmp)\n",
    "\n",
    "print(\"cmp:\",cmp_mean)"
   ]
  },
  {
   "cell_type": "code",
   "execution_count": 31,
   "metadata": {},
   "outputs": [
    {
     "name": "stdout",
     "output_type": "stream",
     "text": [
      "door mean: (tensor([0.5267, 0.4758, 0.4255]), tensor([0.2616, 0.2680, 0.2820]))\n"
     ]
    }
   ],
   "source": [
    "door_mean=getMeanStd(loader_door)\n",
    "\n",
    "print(\"door mean:\",door_mean)"
   ]
  },
  {
   "cell_type": "code",
   "execution_count": 33,
   "metadata": {},
   "outputs": [
    {
     "name": "stdout",
     "output_type": "stream",
     "text": [
      "[1, 2, 3, 4]\n"
     ]
    }
   ],
   "source": []
  }
 ],
 "metadata": {
  "kernelspec": {
   "display_name": "Python 3",
   "language": "python",
   "name": "python3"
  },
  "language_info": {
   "codemirror_mode": {
    "name": "ipython",
    "version": 3
   },
   "file_extension": ".py",
   "mimetype": "text/x-python",
   "name": "python",
   "nbconvert_exporter": "python",
   "pygments_lexer": "ipython3",
   "version": "3.7.6"
  }
 },
 "nbformat": 4,
 "nbformat_minor": 4
}
